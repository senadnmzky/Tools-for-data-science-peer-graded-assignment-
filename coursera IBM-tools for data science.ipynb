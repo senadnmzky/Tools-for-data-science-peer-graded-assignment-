{
 "cells": [
  {
   "cell_type": "markdown",
   "id": "996909a9",
   "metadata": {},
   "source": [
    "# My Jupiter Notebook on IBM Watson Studio"
   ]
  },
  {
   "cell_type": "markdown",
   "id": "7599d7b2",
   "metadata": {},
   "source": [
    "by Sena"
   ]
  },
  {
   "cell_type": "markdown",
   "id": "bfb39903",
   "metadata": {},
   "source": [
    "*I am interested in data science because of numerous reasons.* "
   ]
  },
  {
   "cell_type": "markdown",
   "id": "64d49fd4",
   "metadata": {},
   "source": [
    "<h3>Gauss formula"
   ]
  },
  {
   "cell_type": "code",
   "execution_count": 1,
   "id": "2b52ca60",
   "metadata": {},
   "outputs": [
    {
     "data": {
      "text/plain": [
       "True"
      ]
     },
     "execution_count": 1,
     "metadata": {},
     "output_type": "execute_result"
    }
   ],
   "source": [
    "def gauss (n):\n",
    "    return (n*(n+1))/2\n",
    "\n",
    "gauss (100) == sum(range(101))"
   ]
  },
  {
   "cell_type": "markdown",
   "id": "83ef4ca2",
   "metadata": {},
   "source": [
    "+ one <br>\n",
    "+ two<br>\n",
    "+ three<br>\n",
    "* four<br>\n",
    "- five"
   ]
  },
  {
   "cell_type": "markdown",
   "id": "b667c1bd",
   "metadata": {},
   "source": [
    "**Col1** |**Col2** |**Col3**\n",
    "-----|-----|----- \n",
    "*Data1*|*Data2*|*Data3*\n",
    "Data1|Data2|Data3\n",
    "Data1|Data2|Data3\n",
    "Data1|Data2|Data3"
   ]
  },
  {
   "cell_type": "markdown",
   "id": "04469def",
   "metadata": {},
   "source": [
    "Col1 |Col2 |Col3\n",
    "-----|-----|----- \n",
    "Data1|Data2|Data3\n",
    "Data1|Data2|Data3\n",
    "Data1|Data2|Data3\n",
    "Data1|Data2|Data3"
   ]
  }
 ],
 "metadata": {
  "kernelspec": {
   "display_name": "Python 3 (ipykernel)",
   "language": "python",
   "name": "python3"
  },
  "language_info": {
   "codemirror_mode": {
    "name": "ipython",
    "version": 3
   },
   "file_extension": ".py",
   "mimetype": "text/x-python",
   "name": "python",
   "nbconvert_exporter": "python",
   "pygments_lexer": "ipython3",
   "version": "3.9.7"
  }
 },
 "nbformat": 4,
 "nbformat_minor": 5
}
